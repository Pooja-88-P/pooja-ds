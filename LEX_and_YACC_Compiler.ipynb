{
  "nbformat": 4,
  "nbformat_minor": 0,
  "metadata": {
    "colab": {
      "provenance": [],
      "include_colab_link": true
    },
    "kernelspec": {
      "name": "python3",
      "display_name": "Python 3"
    },
    "language_info": {
      "name": "python"
    }
  },
  "cells": [
    {
      "cell_type": "markdown",
      "metadata": {
        "id": "view-in-github",
        "colab_type": "text"
      },
      "source": [
        "<a href=\"https://colab.research.google.com/github/Pooja-88-P/pooja-ds/blob/main/LEX_and_YACC_Compiler.ipynb\" target=\"_parent\"><img src=\"https://colab.research.google.com/assets/colab-badge.svg\" alt=\"Open In Colab\"/></a>"
      ]
    },
    {
      "cell_type": "markdown",
      "source": [
        "# LEX and YACC Compiler in Colab\n",
        "\n",
        "Drawbacks:\n",
        "* Regular interrupts (Ctrl+D, Ctrl+C) for shell won't work in Colab while inputting for program.\n",
        "<br>Workaround: Store your inputs in a txt file and pass it to the program."
      ],
      "metadata": {
        "id": "Az09-x9PnHPq"
      }
    },
    {
      "cell_type": "code",
      "source": [
        "#@title Install *prerqeuisites* (run this cell first to work on LEX/YACC)\n",
        "!sudo apt install flex bison"
      ],
      "metadata": {
        "cellView": "form",
        "id": "CM_9N3RogX8y"
      },
      "execution_count": null,
      "outputs": []
    },
    {
      "cell_type": "markdown",
      "source": [
        "## Lex only"
      ],
      "metadata": {
        "id": "0IYbRG4He38g"
      }
    },
    {
      "cell_type": "code",
      "execution_count": 6,
      "metadata": {
        "colab": {
          "base_uri": "https://localhost:8080/"
        },
        "id": "Jyt0i_pTexWf",
        "outputId": "f01b9f35-4fd6-4b6e-a346-ea285cb59d73"
      },
      "outputs": [
        {
          "output_type": "stream",
          "name": "stdout",
          "text": [
            "Overwriting program.l\n"
          ]
        }
      ],
      "source": [
        "#@title Writing Lex program\n",
        "%%writefile program.l\n",
        "%{\n",
        "#include<stdio.h>\n",
        "#include<stdlib.h>\n",
        ">\n",
        "%include<string.h>\n",
        ">\n",
        "#define MAX_IDENTIFIER_LENGTH 50\n",
        "%}\n",
        "%option noyywrap\n",
        "%option yylineno\n",
        "void addtosymboltable(const char*)\n",
        "%%\n",
        "[/t]/*ignore whitespace*?\n",
        "/n/*ignore newline*/\n",
        "/^*([^*]/*+[^*/])*/*\n",
        "+V?*ignore\n",
        "comments*?[0-9]+\n",
        "{printf(\"Constant:%s\n",
        "/n\",yytext);}\n",
        "= {printf(\"%s is an Assignment Operator\\n\",yytext);}\n",
        "\\* |\n",
        "\\+ |\n",
        "\\- {printf(\"%s is a Operator\\n\",yytext);}\n",
        "[a-zA-Z][a-zA-Z0-9]* {printf(\"identifier:%s\\n\",yytext);addtosymboltable(yytext);}\n",
        ". {printf(\"Invalid token:%s \\n\",yytext);}\n",
        "%%\n",
        "typedef struct\n",
        "{\n",
        "char name[MAX_IDENTIFIER_LENGTH];\n",
        "} Symbol;\n",
        "Symbol symbol_table[100]; int symbol_count=0;\n",
        "void addtosymboltable(const char * identifier){ if(symbol_count < 100)\n",
        "{\n",
        "strncpy(symbol_table[symbol_count].name,identifier,MAX_IDENTIFIER_LENGTH-1);\n",
        "symbol_table[symbol_count].name[MAX_IDENTIFIER_LENGTH-1]='\\0';\n",
        "\n",
        "symbol_count++;\n",
        "printf(\"Identifier %s is entered in the symbol table\\n\",identifier);\n",
        "}\n",
        "else\n",
        "{\n",
        "printf(\"Symbol table is full.Cannot add more identifier.\\n\"); exit(0);\n",
        "}\n",
        "}\n",
        "int main()\n",
        "{\n",
        "yylex();\n",
        "return 1;\n",
        "}"
      ]
    },
    {
      "cell_type": "markdown",
      "source": [
        "if you want to use at txt as an input"
      ],
      "metadata": {
        "id": "erI5UjQzg3Sy"
      }
    },
    {
      "cell_type": "code",
      "source": [
        "#@title Writing YACC program\n",
        "%%writefile program.y\n",
        "\n",
        "%{\n",
        "    #include<stdio.h>\n",
        "    #include<stdlib.h>\n",
        "%}\n",
        "%token DIGIT LETTER UND NL\n",
        "%%\n",
        "stmt: variable NL {printf(\"Valid Identifier\\n\");exit(0);}\n",
        "variable: LETTER alphanumeric;\n",
        "alphanumeric: LETTER alphanumeric\n",
        "            | DIGIT alphanumeric\n",
        "            | UND alphanumeric\n",
        "            | LETTER\n",
        "            | DIGIT\n",
        "            | UND;\n",
        "%%\n",
        "\n",
        "int yyerror(){\n",
        "    printf(\"Invalid Identifier\\n\");\n",
        "    exit(0);\n",
        "}\n",
        "\n",
        "void main(){\n",
        "    printf(\"Enter the variable name: \");\n",
        "    yyparse();\n",
        "}"
      ],
      "metadata": {
        "colab": {
          "base_uri": "https://localhost:8080/"
        },
        "id": "PR_WVl_3kvjz",
        "outputId": "a19ffcd6-84d8-4a15-f1fe-5dd124b35450"
      },
      "execution_count": null,
      "outputs": [
        {
          "output_type": "stream",
          "name": "stdout",
          "text": [
            "Overwriting program.y\n"
          ]
        }
      ]
    },
    {
      "cell_type": "markdown",
      "source": [
        "if you want to use at txt as an input"
      ],
      "metadata": {
        "id": "b0o39e7Ykll3"
      }
    }
  ]
}